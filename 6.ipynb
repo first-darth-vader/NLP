{
  "nbformat": 4,
  "nbformat_minor": 0,
  "metadata": {
    "colab": {
      "provenance": []
    },
    "kernelspec": {
      "name": "python3",
      "display_name": "Python 3"
    },
    "language_info": {
      "name": "python"
    }
  },
  "cells": [
    {
      "cell_type": "code",
      "source": [
        "import spacy\n",
        "from spacy.lang.en.stop_words import STOP_WORDS\n",
        "from string import punctuation"
      ],
      "metadata": {
        "id": "kwiba-4yhqIW"
      },
      "execution_count": 19,
      "outputs": []
    },
    {
      "cell_type": "code",
      "source": [
        "nlp = spacy.load('en_core_web_sm')\n",
        "stop_words = list(STOP_WORDS)"
      ],
      "metadata": {
        "id": "QaeNyc96hyLh"
      },
      "execution_count": 20,
      "outputs": []
    },
    {
      "cell_type": "code",
      "source": [
        "document = \"\"\"Artificial intelligence (AI) has rapidly transformed various industries, from healthcare to finance.\n",
        "    In healthcare, AI-powered tools assist doctors in diagnosing diseases more accurately, while in finance,\n",
        "    AI algorithms help detect fraudulent transactions. Additionally, AI has revolutionized customer service with chatbots,\n",
        "    enabling faster and more efficient responses to customer inquiries. As AI continues to evolve, its potential applications seem limitless,\n",
        "    offering both opportunities and challenges for businesses and society as a whole.\"\"\""
      ],
      "metadata": {
        "id": "8PmOh0Pkh7z-"
      },
      "execution_count": 36,
      "outputs": []
    },
    {
      "cell_type": "code",
      "source": [
        "docx = nlp(document)"
      ],
      "metadata": {
        "id": "r0sWRP5RjhoF"
      },
      "execution_count": 37,
      "outputs": []
    },
    {
      "cell_type": "code",
      "source": [
        "tokens =[token.text for token in docx]\n",
        "tokens"
      ],
      "metadata": {
        "colab": {
          "base_uri": "https://localhost:8080/"
        },
        "id": "aFCp55SSk2hO",
        "outputId": "2faa2d03-de4d-414f-c887-85d4fec82ba1"
      },
      "execution_count": 38,
      "outputs": [
        {
          "output_type": "execute_result",
          "data": {
            "text/plain": [
              "['Artificial',\n",
              " 'intelligence',\n",
              " '(',\n",
              " 'AI',\n",
              " ')',\n",
              " 'has',\n",
              " 'rapidly',\n",
              " 'transformed',\n",
              " 'various',\n",
              " 'industries',\n",
              " ',',\n",
              " 'from',\n",
              " 'healthcare',\n",
              " 'to',\n",
              " 'finance',\n",
              " '.',\n",
              " '\\n    ',\n",
              " 'In',\n",
              " 'healthcare',\n",
              " ',',\n",
              " 'AI',\n",
              " '-',\n",
              " 'powered',\n",
              " 'tools',\n",
              " 'assist',\n",
              " 'doctors',\n",
              " 'in',\n",
              " 'diagnosing',\n",
              " 'diseases',\n",
              " 'more',\n",
              " 'accurately',\n",
              " ',',\n",
              " 'while',\n",
              " 'in',\n",
              " 'finance',\n",
              " ',',\n",
              " '\\n    ',\n",
              " 'AI',\n",
              " 'algorithms',\n",
              " 'help',\n",
              " 'detect',\n",
              " 'fraudulent',\n",
              " 'transactions',\n",
              " '.',\n",
              " 'Additionally',\n",
              " ',',\n",
              " 'AI',\n",
              " 'has',\n",
              " 'revolutionized',\n",
              " 'customer',\n",
              " 'service',\n",
              " 'with',\n",
              " 'chatbots',\n",
              " ',',\n",
              " '\\n    ',\n",
              " 'enabling',\n",
              " 'faster',\n",
              " 'and',\n",
              " 'more',\n",
              " 'efficient',\n",
              " 'responses',\n",
              " 'to',\n",
              " 'customer',\n",
              " 'inquiries',\n",
              " '.',\n",
              " 'As',\n",
              " 'AI',\n",
              " 'continues',\n",
              " 'to',\n",
              " 'evolve',\n",
              " ',',\n",
              " 'its',\n",
              " 'potential',\n",
              " 'applications',\n",
              " 'seem',\n",
              " 'limitless',\n",
              " ',',\n",
              " '\\n    ',\n",
              " 'offering',\n",
              " 'both',\n",
              " 'opportunities',\n",
              " 'and',\n",
              " 'challenges',\n",
              " 'for',\n",
              " 'businesses',\n",
              " 'and',\n",
              " 'society',\n",
              " 'as',\n",
              " 'a',\n",
              " 'whole',\n",
              " '.']"
            ]
          },
          "metadata": {},
          "execution_count": 38
        }
      ]
    },
    {
      "cell_type": "code",
      "source": [
        "word_freq = {}\n",
        "for word in docx:\n",
        "  if word.text not in stop_words:\n",
        "    if word.text not in word_freq.keys():\n",
        "      word_freq[word.text] = 1\n",
        "    else:\n",
        "      word_freq[word.text] += 1"
      ],
      "metadata": {
        "id": "FrypU19alfd5"
      },
      "execution_count": 39,
      "outputs": []
    },
    {
      "cell_type": "code",
      "source": [
        "max_freq = max(word_freq.values())\n",
        "max_freq"
      ],
      "metadata": {
        "colab": {
          "base_uri": "https://localhost:8080/"
        },
        "id": "uTYYIusLmrJ_",
        "outputId": "a22afab5-8bb1-40a1-c917-065732ae971f"
      },
      "execution_count": 40,
      "outputs": [
        {
          "output_type": "execute_result",
          "data": {
            "text/plain": [
              "8"
            ]
          },
          "metadata": {},
          "execution_count": 40
        }
      ]
    },
    {
      "cell_type": "code",
      "source": [
        "for word in word_freq:\n",
        "  word_freq[word] = word_freq[word]/max_freq\n",
        "\n",
        "word_freq"
      ],
      "metadata": {
        "colab": {
          "base_uri": "https://localhost:8080/"
        },
        "id": "0T0FeGsgnC54",
        "outputId": "ef4a23f7-e467-46f3-a98e-60a0f6cb9da2"
      },
      "execution_count": 41,
      "outputs": [
        {
          "output_type": "execute_result",
          "data": {
            "text/plain": [
              "{'Artificial': 0.125,\n",
              " 'intelligence': 0.125,\n",
              " '(': 0.125,\n",
              " 'AI': 0.625,\n",
              " ')': 0.125,\n",
              " 'rapidly': 0.125,\n",
              " 'transformed': 0.125,\n",
              " 'industries': 0.125,\n",
              " ',': 1.0,\n",
              " 'healthcare': 0.25,\n",
              " 'finance': 0.25,\n",
              " '.': 0.5,\n",
              " '\\n    ': 0.5,\n",
              " 'In': 0.125,\n",
              " '-': 0.125,\n",
              " 'powered': 0.125,\n",
              " 'tools': 0.125,\n",
              " 'assist': 0.125,\n",
              " 'doctors': 0.125,\n",
              " 'diagnosing': 0.125,\n",
              " 'diseases': 0.125,\n",
              " 'accurately': 0.125,\n",
              " 'algorithms': 0.125,\n",
              " 'help': 0.125,\n",
              " 'detect': 0.125,\n",
              " 'fraudulent': 0.125,\n",
              " 'transactions': 0.125,\n",
              " 'Additionally': 0.125,\n",
              " 'revolutionized': 0.125,\n",
              " 'customer': 0.25,\n",
              " 'service': 0.125,\n",
              " 'chatbots': 0.125,\n",
              " 'enabling': 0.125,\n",
              " 'faster': 0.125,\n",
              " 'efficient': 0.125,\n",
              " 'responses': 0.125,\n",
              " 'inquiries': 0.125,\n",
              " 'As': 0.125,\n",
              " 'continues': 0.125,\n",
              " 'evolve': 0.125,\n",
              " 'potential': 0.125,\n",
              " 'applications': 0.125,\n",
              " 'limitless': 0.125,\n",
              " 'offering': 0.125,\n",
              " 'opportunities': 0.125,\n",
              " 'challenges': 0.125,\n",
              " 'businesses': 0.125,\n",
              " 'society': 0.125}"
            ]
          },
          "metadata": {},
          "execution_count": 41
        }
      ]
    },
    {
      "cell_type": "code",
      "source": [
        "sentence_list = [sentence for sentence in docx.sents]"
      ],
      "metadata": {
        "id": "x7kP1MQqn7BV"
      },
      "execution_count": 42,
      "outputs": []
    },
    {
      "cell_type": "code",
      "source": [
        "[w.text.lower() for t in sentence_list for w in t]\n",
        "sentence_list"
      ],
      "metadata": {
        "colab": {
          "base_uri": "https://localhost:8080/"
        },
        "id": "0nORC1mLoQuR",
        "outputId": "d2e7e374-d79d-4807-9035-9783bd9e83b4"
      },
      "execution_count": 43,
      "outputs": [
        {
          "output_type": "execute_result",
          "data": {
            "text/plain": [
              "[Artificial intelligence (AI) has rapidly transformed various industries, from healthcare to finance.\n",
              "     ,\n",
              " In healthcare, AI-powered tools assist doctors in diagnosing diseases more accurately, while in finance,\n",
              "     AI algorithms help detect fraudulent transactions.,\n",
              " Additionally, AI has revolutionized customer service with chatbots,\n",
              "     enabling faster and more efficient responses to customer inquiries.,\n",
              " As AI continues to evolve, its potential applications seem limitless,\n",
              "     offering both opportunities and challenges for businesses and society as a whole.]"
            ]
          },
          "metadata": {},
          "execution_count": 43
        }
      ]
    },
    {
      "cell_type": "code",
      "source": [
        "sentence_scores={}\n",
        "for sentence in sentence_list:\n",
        " for word in sentence:\n",
        "  if word.text in word_freq.keys():\n",
        "   if len(sentence.text.split(' ')) < 30:\n",
        "    if sentence not in sentence_scores.keys():\n",
        "      sentence_scores[sentence] = word_freq[word.text]\n",
        "else:\n",
        "  sentence_scores[sentence] += word_freq[word.text]\n",
        "sentence_scores"
      ],
      "metadata": {
        "colab": {
          "base_uri": "https://localhost:8080/"
        },
        "id": "77b1px4Tovn6",
        "outputId": "fb47b169-7c11-46e9-8940-b281ce4e0efa"
      },
      "execution_count": 44,
      "outputs": [
        {
          "output_type": "execute_result",
          "data": {
            "text/plain": [
              "{Artificial intelligence (AI) has rapidly transformed various industries, from healthcare to finance.\n",
              "     : 0.125,\n",
              " In healthcare, AI-powered tools assist doctors in diagnosing diseases more accurately, while in finance,\n",
              "     AI algorithms help detect fraudulent transactions.: 0.125,\n",
              " Additionally, AI has revolutionized customer service with chatbots,\n",
              "     enabling faster and more efficient responses to customer inquiries.: 0.125,\n",
              " As AI continues to evolve, its potential applications seem limitless,\n",
              "     offering both opportunities and challenges for businesses and society as a whole.: 0.625}"
            ]
          },
          "metadata": {},
          "execution_count": 44
        }
      ]
    },
    {
      "cell_type": "code",
      "source": [
        "from heapq import nlargest\n",
        "sum_sentences = nlargest(2, sentence_scores, key=sentence_scores.get)\n",
        "sum_sentences\n",
        "\n",
        "for w in sum_sentences:\n",
        "  print(w.text)"
      ],
      "metadata": {
        "colab": {
          "base_uri": "https://localhost:8080/"
        },
        "id": "M840tY2hpioy",
        "outputId": "8811ee76-c5ed-4582-be0c-3f2d6dedecec"
      },
      "execution_count": 45,
      "outputs": [
        {
          "output_type": "stream",
          "name": "stdout",
          "text": [
            "As AI continues to evolve, its potential applications seem limitless,\n",
            "    offering both opportunities and challenges for businesses and society as a whole.\n",
            "Artificial intelligence (AI) has rapidly transformed various industries, from healthcare to finance.\n",
            "    \n"
          ]
        }
      ]
    },
    {
      "cell_type": "code",
      "source": [
        "final_sentences = [ w.text for w in sum_sentences]\n",
        "final_sentences\n",
        "summary = ' '.join(final_sentences)\n",
        "summary"
      ],
      "metadata": {
        "colab": {
          "base_uri": "https://localhost:8080/",
          "height": 73
        },
        "id": "Ld3dnOWWpnPe",
        "outputId": "6bbcd9d9-ac2c-4c82-e10d-f62821c2a0b2"
      },
      "execution_count": 46,
      "outputs": [
        {
          "output_type": "execute_result",
          "data": {
            "text/plain": [
              "'As AI continues to evolve, its potential applications seem limitless,\\n    offering both opportunities and challenges for businesses and society as a whole. Artificial intelligence (AI) has rapidly transformed various industries, from healthcare to finance.\\n    '"
            ],
            "application/vnd.google.colaboratory.intrinsic+json": {
              "type": "string"
            }
          },
          "metadata": {},
          "execution_count": 46
        }
      ]
    },
    {
      "cell_type": "code",
      "source": [
        "print(\"length of original text was \",len(document),\", Which is now reduced to \",len(summary))"
      ],
      "metadata": {
        "colab": {
          "base_uri": "https://localhost:8080/"
        },
        "id": "JbJwgdQDp4Mz",
        "outputId": "a51c2f4f-82ab-41cc-e6d1-184acd1b1412"
      },
      "execution_count": 48,
      "outputs": [
        {
          "output_type": "stream",
          "name": "stdout",
          "text": [
            "length of original text was  560 , Which is now reduced to  261\n"
          ]
        }
      ]
    },
    {
      "cell_type": "code",
      "source": [],
      "metadata": {
        "id": "P0Bg_Bcjp7Fk"
      },
      "execution_count": null,
      "outputs": []
    }
  ]
}