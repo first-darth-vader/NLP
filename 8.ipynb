{
  "nbformat": 4,
  "nbformat_minor": 0,
  "metadata": {
    "colab": {
      "provenance": []
    },
    "kernelspec": {
      "name": "python3",
      "display_name": "Python 3"
    },
    "language_info": {
      "name": "python"
    }
  },
  "cells": [
    {
      "cell_type": "code",
      "execution_count": null,
      "metadata": {
        "colab": {
          "base_uri": "https://localhost:8080/"
        },
        "id": "K6jMuP9ZGXtK",
        "outputId": "ef5160dd-3e91-4597-f3e1-d50c17bc48cb"
      },
      "outputs": [
        {
          "output_type": "stream",
          "name": "stdout",
          "text": [
            "Requirement already satisfied: nltk in /usr/local/lib/python3.10/dist-packages (3.8.1)\n",
            "Requirement already satisfied: click in /usr/local/lib/python3.10/dist-packages (from nltk) (8.1.7)\n",
            "Requirement already satisfied: joblib in /usr/local/lib/python3.10/dist-packages (from nltk) (1.4.2)\n",
            "Requirement already satisfied: regex>=2021.8.3 in /usr/local/lib/python3.10/dist-packages (from nltk) (2024.9.11)\n",
            "Requirement already satisfied: tqdm in /usr/local/lib/python3.10/dist-packages (from nltk) (4.66.5)\n"
          ]
        }
      ],
      "source": [
        "!pip install nltk"
      ]
    },
    {
      "cell_type": "code",
      "source": [
        "import nltk\n",
        "nltk.download('vader_lexicon')"
      ],
      "metadata": {
        "colab": {
          "base_uri": "https://localhost:8080/"
        },
        "id": "-4QOScsRGlbt",
        "outputId": "fd7cb5ac-269a-44d8-85f3-517862b8cd99"
      },
      "execution_count": null,
      "outputs": [
        {
          "output_type": "stream",
          "name": "stderr",
          "text": [
            "[nltk_data] Downloading package vader_lexicon to /root/nltk_data...\n"
          ]
        },
        {
          "output_type": "execute_result",
          "data": {
            "text/plain": [
              "True"
            ]
          },
          "metadata": {},
          "execution_count": 2
        }
      ]
    },
    {
      "cell_type": "code",
      "source": [
        "from nltk.sentiment import SentimentIntensityAnalyzer\n",
        "\n",
        "sia = SentimentIntensityAnalyzer()\n",
        "\n",
        "texts = [\"I like this product, its amazing!\",\n",
        "        \"This is the worst experience I ever had\",\n",
        "        \"The product is okay\",\n",
        "        ]\n",
        "for text in texts:\n",
        "  sentiment_scores = sia.polarity_scores(text)\n",
        "  print(f\"Text:{text}\")\n",
        "  print(f\"Sentiment_scores:{sentiment_scores}\")\n",
        "\n",
        "  compound_score = sentiment_scores['compound']\n",
        "  if compound_score >= 0.5:\n",
        "    print(\"Sentiment = Positive\")\n",
        "  elif compound_score <= -0.5:\n",
        "    print(\"Sentiment = Negative\")\n",
        "  else :\n",
        "    print(\"Sentiment = Neutral\")\n"
      ],
      "metadata": {
        "colab": {
          "base_uri": "https://localhost:8080/"
        },
        "id": "2P9Nmqt5HC2W",
        "outputId": "79afdacf-b04e-4925-9c1b-76382d557a67"
      },
      "execution_count": null,
      "outputs": [
        {
          "output_type": "stream",
          "name": "stdout",
          "text": [
            "Text:I like this product, its amazing!\n",
            "Sentiment_scores:{'neg': 0.0, 'neu': 0.313, 'pos': 0.687, 'compound': 0.7644}\n",
            "Sentiment = Positive\n",
            "Text:This is the worst experience I ever had\n",
            "Sentiment_scores:{'neg': 0.406, 'neu': 0.594, 'pos': 0.0, 'compound': -0.6249}\n",
            "Sentiment = Negative\n",
            "Text:The product is okay\n",
            "Sentiment_scores:{'neg': 0.0, 'neu': 0.612, 'pos': 0.388, 'compound': 0.2263}\n",
            "Sentiment = Neutral\n"
          ]
        }
      ]
    },
    {
      "cell_type": "code",
      "source": [],
      "metadata": {
        "colab": {
          "base_uri": "https://localhost:8080/"
        },
        "id": "olKzBnQ7JChB",
        "outputId": "854e8b48-3683-4911-e106-1452ce734ddd"
      },
      "execution_count": null,
      "outputs": [
        {
          "output_type": "stream",
          "name": "stdout",
          "text": [
            "Sentiment = Positive\n"
          ]
        }
      ]
    },
    {
      "cell_type": "code",
      "source": [],
      "metadata": {
        "id": "JrFdbiTUJ-H9"
      },
      "execution_count": null,
      "outputs": []
    }
  ]
}